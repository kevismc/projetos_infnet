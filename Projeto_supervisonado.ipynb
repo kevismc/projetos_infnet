{
 "cells": [
  {
   "cell_type": "code",
   "execution_count": 1,
   "metadata": {},
   "outputs": [
    {
     "name": "stderr",
     "output_type": "stream",
     "text": [
      "c:\\Users\\katia\\AppData\\Local\\Programs\\Python\\Python311\\Lib\\site-packages\\tqdm\\auto.py:21: TqdmWarning: IProgress not found. Please update jupyter and ipywidgets. See https://ipywidgets.readthedocs.io/en/stable/user_install.html\n",
      "  from .autonotebook import tqdm as notebook_tqdm\n"
     ]
    }
   ],
   "source": [
    "import pandas as pd\n",
    "import numpy as np\n",
    "import matplotlib.pyplot as plt\n",
    "import seaborn as sns\n",
    "from ydata_profiling import ProfileReport\n",
    "\n",
    "from sklearn.model_selection import train_test_split\n",
    "from sklearn.preprocessing import StandardScaler\n",
    "\n",
    "from sklearn.linear_model import LogisticRegression\n",
    "from sklearn.tree import DecisionTreeClassifier\n",
    "from sklearn import svm\n",
    "from sklearn.model_selection import KFold, cross_val_score\n",
    "\n",
    "from sklearn import metrics\n",
    "from sklearn.metrics import make_scorer,accuracy_score, precision_score, recall_score, f1_score\n",
    "from sklearn.metrics import confusion_matrix, roc_auc_score, roc_curve, RocCurveDisplay"
   ]
  },
  {
   "cell_type": "code",
   "execution_count": 2,
   "metadata": {},
   "outputs": [],
   "source": [
    "#Importando os dados:\n",
    "url = \"C:/Users/katia/Documents/Infnet/Aprendizado_supervsionado/winequalityN.csv\"\n",
    "#Lendo os dados com pandas\n",
    "df = pd.read_csv(url)"
   ]
  },
  {
   "cell_type": "code",
   "execution_count": 3,
   "metadata": {},
   "outputs": [
    {
     "data": {
      "text/html": [
       "<div>\n",
       "<style scoped>\n",
       "    .dataframe tbody tr th:only-of-type {\n",
       "        vertical-align: middle;\n",
       "    }\n",
       "\n",
       "    .dataframe tbody tr th {\n",
       "        vertical-align: top;\n",
       "    }\n",
       "\n",
       "    .dataframe thead th {\n",
       "        text-align: right;\n",
       "    }\n",
       "</style>\n",
       "<table border=\"1\" class=\"dataframe\">\n",
       "  <thead>\n",
       "    <tr style=\"text-align: right;\">\n",
       "      <th></th>\n",
       "      <th>type</th>\n",
       "      <th>fixed acidity</th>\n",
       "      <th>volatile acidity</th>\n",
       "      <th>citric acid</th>\n",
       "      <th>residual sugar</th>\n",
       "      <th>chlorides</th>\n",
       "      <th>free sulfur dioxide</th>\n",
       "      <th>total sulfur dioxide</th>\n",
       "      <th>density</th>\n",
       "      <th>pH</th>\n",
       "      <th>sulphates</th>\n",
       "      <th>alcohol</th>\n",
       "      <th>quality</th>\n",
       "    </tr>\n",
       "  </thead>\n",
       "  <tbody>\n",
       "    <tr>\n",
       "      <th>0</th>\n",
       "      <td>white</td>\n",
       "      <td>7.0</td>\n",
       "      <td>0.27</td>\n",
       "      <td>0.36</td>\n",
       "      <td>20.7</td>\n",
       "      <td>0.045</td>\n",
       "      <td>45.0</td>\n",
       "      <td>170.0</td>\n",
       "      <td>1.0010</td>\n",
       "      <td>3.00</td>\n",
       "      <td>0.45</td>\n",
       "      <td>8.8</td>\n",
       "      <td>6</td>\n",
       "    </tr>\n",
       "    <tr>\n",
       "      <th>1</th>\n",
       "      <td>white</td>\n",
       "      <td>6.3</td>\n",
       "      <td>0.30</td>\n",
       "      <td>0.34</td>\n",
       "      <td>1.6</td>\n",
       "      <td>0.049</td>\n",
       "      <td>14.0</td>\n",
       "      <td>132.0</td>\n",
       "      <td>0.9940</td>\n",
       "      <td>3.30</td>\n",
       "      <td>0.49</td>\n",
       "      <td>9.5</td>\n",
       "      <td>6</td>\n",
       "    </tr>\n",
       "    <tr>\n",
       "      <th>2</th>\n",
       "      <td>white</td>\n",
       "      <td>8.1</td>\n",
       "      <td>0.28</td>\n",
       "      <td>0.40</td>\n",
       "      <td>6.9</td>\n",
       "      <td>0.050</td>\n",
       "      <td>30.0</td>\n",
       "      <td>97.0</td>\n",
       "      <td>0.9951</td>\n",
       "      <td>3.26</td>\n",
       "      <td>0.44</td>\n",
       "      <td>10.1</td>\n",
       "      <td>6</td>\n",
       "    </tr>\n",
       "    <tr>\n",
       "      <th>3</th>\n",
       "      <td>white</td>\n",
       "      <td>7.2</td>\n",
       "      <td>0.23</td>\n",
       "      <td>0.32</td>\n",
       "      <td>8.5</td>\n",
       "      <td>0.058</td>\n",
       "      <td>47.0</td>\n",
       "      <td>186.0</td>\n",
       "      <td>0.9956</td>\n",
       "      <td>3.19</td>\n",
       "      <td>0.40</td>\n",
       "      <td>9.9</td>\n",
       "      <td>6</td>\n",
       "    </tr>\n",
       "    <tr>\n",
       "      <th>4</th>\n",
       "      <td>white</td>\n",
       "      <td>7.2</td>\n",
       "      <td>0.23</td>\n",
       "      <td>0.32</td>\n",
       "      <td>8.5</td>\n",
       "      <td>0.058</td>\n",
       "      <td>47.0</td>\n",
       "      <td>186.0</td>\n",
       "      <td>0.9956</td>\n",
       "      <td>3.19</td>\n",
       "      <td>0.40</td>\n",
       "      <td>9.9</td>\n",
       "      <td>6</td>\n",
       "    </tr>\n",
       "  </tbody>\n",
       "</table>\n",
       "</div>"
      ],
      "text/plain": [
       "    type  fixed acidity  volatile acidity  citric acid  residual sugar  \\\n",
       "0  white            7.0              0.27         0.36            20.7   \n",
       "1  white            6.3              0.30         0.34             1.6   \n",
       "2  white            8.1              0.28         0.40             6.9   \n",
       "3  white            7.2              0.23         0.32             8.5   \n",
       "4  white            7.2              0.23         0.32             8.5   \n",
       "\n",
       "   chlorides  free sulfur dioxide  total sulfur dioxide  density    pH  \\\n",
       "0      0.045                 45.0                 170.0   1.0010  3.00   \n",
       "1      0.049                 14.0                 132.0   0.9940  3.30   \n",
       "2      0.050                 30.0                  97.0   0.9951  3.26   \n",
       "3      0.058                 47.0                 186.0   0.9956  3.19   \n",
       "4      0.058                 47.0                 186.0   0.9956  3.19   \n",
       "\n",
       "   sulphates  alcohol  quality  \n",
       "0       0.45      8.8        6  \n",
       "1       0.49      9.5        6  \n",
       "2       0.44     10.1        6  \n",
       "3       0.40      9.9        6  \n",
       "4       0.40      9.9        6  "
      ]
     },
     "execution_count": 3,
     "metadata": {},
     "output_type": "execute_result"
    }
   ],
   "source": [
    "#Conferindo os dados:\n",
    "df.head()\n"
   ]
  },
  {
   "cell_type": "code",
   "execution_count": 4,
   "metadata": {},
   "outputs": [
    {
     "name": "stdout",
     "output_type": "stream",
     "text": [
      "<class 'pandas.core.frame.DataFrame'>\n",
      "RangeIndex: 6497 entries, 0 to 6496\n",
      "Data columns (total 13 columns):\n",
      " #   Column                Non-Null Count  Dtype  \n",
      "---  ------                --------------  -----  \n",
      " 0   type                  6497 non-null   object \n",
      " 1   fixed acidity         6487 non-null   float64\n",
      " 2   volatile acidity      6489 non-null   float64\n",
      " 3   citric acid           6494 non-null   float64\n",
      " 4   residual sugar        6495 non-null   float64\n",
      " 5   chlorides             6495 non-null   float64\n",
      " 6   free sulfur dioxide   6497 non-null   float64\n",
      " 7   total sulfur dioxide  6497 non-null   float64\n",
      " 8   density               6497 non-null   float64\n",
      " 9   pH                    6488 non-null   float64\n",
      " 10  sulphates             6493 non-null   float64\n",
      " 11  alcohol               6497 non-null   float64\n",
      " 12  quality               6497 non-null   int64  \n",
      "dtypes: float64(11), int64(1), object(1)\n",
      "memory usage: 660.0+ KB\n"
     ]
    }
   ],
   "source": [
    "df.info()"
   ]
  },
  {
   "cell_type": "code",
   "execution_count": 9,
   "metadata": {},
   "outputs": [
    {
     "name": "stdout",
     "output_type": "stream",
     "text": [
      "<class 'pandas.core.frame.DataFrame'>\n",
      "Index: 4898 entries, 0 to 4897\n",
      "Data columns (total 13 columns):\n",
      " #   Column                Non-Null Count  Dtype  \n",
      "---  ------                --------------  -----  \n",
      " 0   type                  4898 non-null   object \n",
      " 1   fixed acidity         4890 non-null   float64\n",
      " 2   volatile acidity      4891 non-null   float64\n",
      " 3   citric acid           4896 non-null   float64\n",
      " 4   residual sugar        4896 non-null   float64\n",
      " 5   chlorides             4896 non-null   float64\n",
      " 6   free sulfur dioxide   4898 non-null   float64\n",
      " 7   total sulfur dioxide  4898 non-null   float64\n",
      " 8   density               4898 non-null   float64\n",
      " 9   pH                    4891 non-null   float64\n",
      " 10  sulphates             4896 non-null   float64\n",
      " 11  alcohol               4898 non-null   float64\n",
      " 12  opinion               4898 non-null   int64  \n",
      "dtypes: float64(11), int64(1), object(1)\n",
      "memory usage: 535.7+ KB\n"
     ]
    },
    {
     "name": "stderr",
     "output_type": "stream",
     "text": [
      "C:\\Users\\katia\\AppData\\Local\\Temp\\ipykernel_25700\\3232536431.py:4: SettingWithCopyWarning: \n",
      "A value is trying to be set on a copy of a slice from a DataFrame.\n",
      "Try using .loc[row_indexer,col_indexer] = value instead\n",
      "\n",
      "See the caveats in the documentation: https://pandas.pydata.org/pandas-docs/stable/user_guide/indexing.html#returning-a-view-versus-a-copy\n",
      "  df_white['opinion'] = df_white['quality'].apply(lambda x: 0 if x <= 5 else 1)\n",
      "C:\\Users\\katia\\AppData\\Local\\Temp\\ipykernel_25700\\3232536431.py:5: SettingWithCopyWarning: \n",
      "A value is trying to be set on a copy of a slice from a DataFrame\n",
      "\n",
      "See the caveats in the documentation: https://pandas.pydata.org/pandas-docs/stable/user_guide/indexing.html#returning-a-view-versus-a-copy\n",
      "  df_white.drop(columns = 'quality', inplace = True)\n"
     ]
    }
   ],
   "source": [
    "#Selecionando apenas vinhos brancos:\n",
    "df_white = df[df['type'] == 'white']\n",
    "# QUESTAO 2: criando a variavel opinion categorica de 0 ou 1 a depender da nota do vinho:\n",
    "df_white['opinion'] = df_white['quality'].apply(lambda x: 0 if x <= 5 else 1)\n",
    "df_white.drop(columns = 'quality', inplace = True)\n",
    "df_white.info()\n",
    "\n"
   ]
  },
  {
   "cell_type": "code",
   "execution_count": null,
   "metadata": {},
   "outputs": [],
   "source": [
    "QUESTAO 3: \n",
    "Descreva as variáveis presentes na base. Quais são as variáveis? Quais são os tipos de variáveis (discreta, categórica, contínua)? \n",
    "Quais são as médias e desvios padrões?\n",
    "\n",
    "As variaveis categoricas são:\"Opinion\"\n",
    "As demais são contínuas.\n",
    "\n"
   ]
  },
  {
   "cell_type": "code",
   "execution_count": 11,
   "metadata": {},
   "outputs": [
    {
     "data": {
      "text/html": [
       "<div>\n",
       "<style scoped>\n",
       "    .dataframe tbody tr th:only-of-type {\n",
       "        vertical-align: middle;\n",
       "    }\n",
       "\n",
       "    .dataframe tbody tr th {\n",
       "        vertical-align: top;\n",
       "    }\n",
       "\n",
       "    .dataframe thead th {\n",
       "        text-align: right;\n",
       "    }\n",
       "</style>\n",
       "<table border=\"1\" class=\"dataframe\">\n",
       "  <thead>\n",
       "    <tr style=\"text-align: right;\">\n",
       "      <th></th>\n",
       "      <th>fixed acidity</th>\n",
       "      <th>volatile acidity</th>\n",
       "      <th>citric acid</th>\n",
       "      <th>residual sugar</th>\n",
       "      <th>chlorides</th>\n",
       "      <th>free sulfur dioxide</th>\n",
       "      <th>total sulfur dioxide</th>\n",
       "      <th>density</th>\n",
       "      <th>pH</th>\n",
       "      <th>sulphates</th>\n",
       "      <th>alcohol</th>\n",
       "      <th>opinion</th>\n",
       "    </tr>\n",
       "  </thead>\n",
       "  <tbody>\n",
       "    <tr>\n",
       "      <th>count</th>\n",
       "      <td>3942.000000</td>\n",
       "      <td>3942.000000</td>\n",
       "      <td>3942.000000</td>\n",
       "      <td>3942.000000</td>\n",
       "      <td>3942.000000</td>\n",
       "      <td>3942.000000</td>\n",
       "      <td>3942.000000</td>\n",
       "      <td>3942.000000</td>\n",
       "      <td>3942.000000</td>\n",
       "      <td>3942.000000</td>\n",
       "      <td>3942.000000</td>\n",
       "      <td>3942.000000</td>\n",
       "    </tr>\n",
       "    <tr>\n",
       "      <th>mean</th>\n",
       "      <td>6.840297</td>\n",
       "      <td>0.280430</td>\n",
       "      <td>0.334490</td>\n",
       "      <td>5.918721</td>\n",
       "      <td>0.045887</td>\n",
       "      <td>34.918062</td>\n",
       "      <td>137.215753</td>\n",
       "      <td>0.993788</td>\n",
       "      <td>3.195287</td>\n",
       "      <td>0.490236</td>\n",
       "      <td>10.591945</td>\n",
       "      <td>0.659817</td>\n",
       "    </tr>\n",
       "    <tr>\n",
       "      <th>std</th>\n",
       "      <td>0.866067</td>\n",
       "      <td>0.103256</td>\n",
       "      <td>0.122404</td>\n",
       "      <td>4.861389</td>\n",
       "      <td>0.023088</td>\n",
       "      <td>17.227540</td>\n",
       "      <td>43.128509</td>\n",
       "      <td>0.002907</td>\n",
       "      <td>0.151345</td>\n",
       "      <td>0.113653</td>\n",
       "      <td>1.217787</td>\n",
       "      <td>0.473831</td>\n",
       "    </tr>\n",
       "    <tr>\n",
       "      <th>min</th>\n",
       "      <td>3.800000</td>\n",
       "      <td>0.080000</td>\n",
       "      <td>0.000000</td>\n",
       "      <td>0.600000</td>\n",
       "      <td>0.009000</td>\n",
       "      <td>2.000000</td>\n",
       "      <td>9.000000</td>\n",
       "      <td>0.987110</td>\n",
       "      <td>2.720000</td>\n",
       "      <td>0.220000</td>\n",
       "      <td>8.000000</td>\n",
       "      <td>0.000000</td>\n",
       "    </tr>\n",
       "    <tr>\n",
       "      <th>25%</th>\n",
       "      <td>6.300000</td>\n",
       "      <td>0.210000</td>\n",
       "      <td>0.270000</td>\n",
       "      <td>1.600000</td>\n",
       "      <td>0.035000</td>\n",
       "      <td>23.000000</td>\n",
       "      <td>106.000000</td>\n",
       "      <td>0.991600</td>\n",
       "      <td>3.090000</td>\n",
       "      <td>0.410000</td>\n",
       "      <td>9.500000</td>\n",
       "      <td>0.000000</td>\n",
       "    </tr>\n",
       "    <tr>\n",
       "      <th>50%</th>\n",
       "      <td>6.800000</td>\n",
       "      <td>0.260000</td>\n",
       "      <td>0.320000</td>\n",
       "      <td>4.700000</td>\n",
       "      <td>0.042000</td>\n",
       "      <td>33.000000</td>\n",
       "      <td>133.000000</td>\n",
       "      <td>0.993500</td>\n",
       "      <td>3.180000</td>\n",
       "      <td>0.480000</td>\n",
       "      <td>10.400000</td>\n",
       "      <td>1.000000</td>\n",
       "    </tr>\n",
       "    <tr>\n",
       "      <th>75%</th>\n",
       "      <td>7.300000</td>\n",
       "      <td>0.328750</td>\n",
       "      <td>0.390000</td>\n",
       "      <td>8.875000</td>\n",
       "      <td>0.050000</td>\n",
       "      <td>45.000000</td>\n",
       "      <td>166.000000</td>\n",
       "      <td>0.995710</td>\n",
       "      <td>3.290000</td>\n",
       "      <td>0.550000</td>\n",
       "      <td>11.400000</td>\n",
       "      <td>1.000000</td>\n",
       "    </tr>\n",
       "    <tr>\n",
       "      <th>max</th>\n",
       "      <td>14.200000</td>\n",
       "      <td>1.100000</td>\n",
       "      <td>1.660000</td>\n",
       "      <td>65.800000</td>\n",
       "      <td>0.346000</td>\n",
       "      <td>289.000000</td>\n",
       "      <td>440.000000</td>\n",
       "      <td>1.038980</td>\n",
       "      <td>3.820000</td>\n",
       "      <td>1.080000</td>\n",
       "      <td>14.200000</td>\n",
       "      <td>1.000000</td>\n",
       "    </tr>\n",
       "  </tbody>\n",
       "</table>\n",
       "</div>"
      ],
      "text/plain": [
       "       fixed acidity  volatile acidity  citric acid  residual sugar  \\\n",
       "count    3942.000000       3942.000000  3942.000000     3942.000000   \n",
       "mean        6.840297          0.280430     0.334490        5.918721   \n",
       "std         0.866067          0.103256     0.122404        4.861389   \n",
       "min         3.800000          0.080000     0.000000        0.600000   \n",
       "25%         6.300000          0.210000     0.270000        1.600000   \n",
       "50%         6.800000          0.260000     0.320000        4.700000   \n",
       "75%         7.300000          0.328750     0.390000        8.875000   \n",
       "max        14.200000          1.100000     1.660000       65.800000   \n",
       "\n",
       "         chlorides  free sulfur dioxide  total sulfur dioxide      density  \\\n",
       "count  3942.000000          3942.000000           3942.000000  3942.000000   \n",
       "mean      0.045887            34.918062            137.215753     0.993788   \n",
       "std       0.023088            17.227540             43.128509     0.002907   \n",
       "min       0.009000             2.000000              9.000000     0.987110   \n",
       "25%       0.035000            23.000000            106.000000     0.991600   \n",
       "50%       0.042000            33.000000            133.000000     0.993500   \n",
       "75%       0.050000            45.000000            166.000000     0.995710   \n",
       "max       0.346000           289.000000            440.000000     1.038980   \n",
       "\n",
       "                pH    sulphates      alcohol      opinion  \n",
       "count  3942.000000  3942.000000  3942.000000  3942.000000  \n",
       "mean      3.195287     0.490236    10.591945     0.659817  \n",
       "std       0.151345     0.113653     1.217787     0.473831  \n",
       "min       2.720000     0.220000     8.000000     0.000000  \n",
       "25%       3.090000     0.410000     9.500000     0.000000  \n",
       "50%       3.180000     0.480000    10.400000     1.000000  \n",
       "75%       3.290000     0.550000    11.400000     1.000000  \n",
       "max       3.820000     1.080000    14.200000     1.000000  "
      ]
     },
     "execution_count": 11,
     "metadata": {},
     "output_type": "execute_result"
    }
   ],
   "source": [
    "#médias e desvios:\n",
    "df_white = df_white.dropna(axis=0)\n",
    "df_white = df_white.drop_duplicates()\n",
    "df_white.describe()\n"
   ]
  },
  {
   "cell_type": "markdown",
   "metadata": {},
   "source": [
    "QUESTAO 4: \n",
    "a) Descreva as etapas necessárias para criar um modelo de classificação eficiente.\n",
    "O primeiro passo é normalizar o modelos para evitar o desbalanceamento de pesos causados pela escala das variáveis.\n",
    "Depois dividimos o modelo entre treino e teste, o primeiro aprende e o seguindo faz a predição com base no que foi aprendido.\n",
    "Com base no que o modelo aprendeu temos uma taxa de acerto e conseguimos ver os parametros de qualidade como recall, acuracia e precisão.\n"
   ]
  },
  {
   "cell_type": "markdown",
   "metadata": {},
   "source": [
    "b)Treine um modelo de regressão logística usando um modelo de validação cruzada estratificada com k-folds (k=10) para realizar a classificação.\n",
    "i. a média e desvio da acurácia dos modelos obtidos;\n",
    "ii. a média e desvio da precisão dos modelos obtidos;\n",
    "iii. a média e desvio da recall dos modelos obtidos;\n",
    "iv. a média e desvio do f1-score dos modelos obtidos."
   ]
  },
  {
   "cell_type": "code",
   "execution_count": 12,
   "metadata": {},
   "outputs": [],
   "source": [
    " \n",
    "\n",
    "X = df_white[['fixed acidity', 'volatile acidity', 'citric acid',\n",
    "       'residual sugar', 'chlorides', 'free sulfur dioxide',\n",
    "       'total sulfur dioxide']]\n",
    "y = df_white['opinion']\n",
    "X_train, X_test, y_train, y_test = train_test_split(X, y,test_size= 0.30, random_state= 42, stratify= y)\n"
   ]
  },
  {
   "cell_type": "code",
   "execution_count": 18,
   "metadata": {},
   "outputs": [
    {
     "data": {
      "text/plain": [
       "array([[0.38282617, 0.61717383],\n",
       "       [0.39075643, 0.60924357],\n",
       "       [0.22651558, 0.77348442],\n",
       "       ...,\n",
       "       [0.29440908, 0.70559092],\n",
       "       [0.3995438 , 0.6004562 ],\n",
       "       [0.34543532, 0.65456468]])"
      ]
     },
     "execution_count": 18,
     "metadata": {},
     "output_type": "execute_result"
    }
   ],
   "source": [
    "reglog = LogisticRegression(C=0.01, solver='liblinear').fit(X_train,y_train)\n",
    "reglog\n",
    "yhat_reglog = reglog.predict(X_test)\n",
    "yhat_reglog\n",
    "y_proba_reglog = reglog.predict_proba(X_test)\n",
    "y_proba_reglog\n",
    "     "
   ]
  },
  {
   "cell_type": "code",
   "execution_count": 26,
   "metadata": {},
   "outputs": [],
   "source": [
    "from sklearn.model_selection import cross_val_score\n",
    "acuracias_reglog = cross_val_score(reglog, X_train, y_train, cv=10, scoring='accuracy')\n",
    "precisoes_reglog = cross_val_score(reglog, X_train, y_train, cv=10, scoring='precision')\n",
    "recalls_reglog = cross_val_score(reglog, X_train, y_train, cv=10, scoring='recall')\n",
    "f1_scores_reglog = cross_val_score(reglog, X_train, y_train, cv=10, scoring='f1')\n"
   ]
  },
  {
   "cell_type": "code",
   "execution_count": 28,
   "metadata": {},
   "outputs": [
    {
     "name": "stdout",
     "output_type": "stream",
     "text": [
      "Acurácias: [0.66666667 0.64855072 0.67028986 0.67753623 0.65942029 0.63405797\n",
      " 0.67753623 0.65942029 0.67028986 0.68727273]\n",
      "Média da Acurácia: 0.6651040843214756\n",
      "Desvio Padrão da Acurácia: 0.014694479656825389\n"
     ]
    }
   ],
   "source": [
    "#i média e o desvio padrão da acurácia\n",
    "mean_acuracia_reglog = np.mean(acuracias_reglog)\n",
    "std_acuracia_reglog = np.std(acuracias_reglog)\n",
    "\n",
    "print(f'Acurácias: {acuracias_reglog}')\n",
    "print(f'Média da Acurácia: {mean_acuracia_reglog}')\n",
    "print(f'Desvio Padrão da Acurácia: {std_acuracia_reglog}')\n",
    "\n",
    "#"
   ]
  },
  {
   "cell_type": "code",
   "execution_count": 29,
   "metadata": {},
   "outputs": [
    {
     "name": "stdout",
     "output_type": "stream",
     "text": [
      "Acurácias: [0.67175573 0.66932271 0.6743295  0.68379447 0.671875   0.66396761\n",
      " 0.68093385 0.67054264 0.6812749  0.68604651]\n",
      "Média da Acurácia: 0.6753842913834396\n",
      "Desvio Padrão da Acurácia: 0.006833959873181554\n"
     ]
    }
   ],
   "source": [
    "#ii média e o desvio padrão da precisão\n",
    "mean_precisao_reglog = np.mean(precisoes_reglog)\n",
    "std_precisao_reglog = np.std(precisoes_reglog)\n",
    "\n",
    "print(f'Acurácias: {precisoes_reglog}')\n",
    "print(f'Média da Acurácia: {mean_precisao_reglog}')\n",
    "print(f'Desvio Padrão da Acurácia: {std_precisao_reglog}')"
   ]
  },
  {
   "cell_type": "code",
   "execution_count": 30,
   "metadata": {},
   "outputs": [
    {
     "name": "stdout",
     "output_type": "stream",
     "text": [
      "Recalls: [0.96703297 0.92307692 0.96703297 0.95054945 0.94505495 0.9010989\n",
      " 0.96153846 0.95054945 0.93956044 0.97252747]\n",
      "Média do Recall: 0.9478021978021978\n",
      "Desvio Padrão do Recall: 0.021030394735169922\n"
     ]
    }
   ],
   "source": [
    "#iii média e o desvio padrão do recall\n",
    "mean_recall_reglog = np.mean(recalls_reglog)\n",
    "std_recall_reglog = np.std(recalls_reglog)\n",
    "\n",
    "print(f'Recalls: {recalls_reglog}')\n",
    "print(f'Média do Recall: {mean_recall_reglog}')\n",
    "print(f'Desvio Padrão do Recall: {std_recall_reglog}')"
   ]
  },
  {
   "cell_type": "code",
   "execution_count": 31,
   "metadata": {},
   "outputs": [
    {
     "name": "stdout",
     "output_type": "stream",
     "text": [
      "F1-scores: [0.79279279 0.77598152 0.79458239 0.7954023  0.78538813 0.76456876\n",
      " 0.79726651 0.78636364 0.78983834 0.80454545]\n",
      "Média do F1-score: 0.7886729843989877\n",
      "Desvio Padrão do F1-score: 0.010874417995036209\n"
     ]
    }
   ],
   "source": [
    "#iv média e o desvio padrão do F1-score\n",
    "mean_f1_score_reglog = np.mean(f1_scores_reglog)\n",
    "std_f1_score_reglog = np.std(f1_scores_reglog)\n",
    "\n",
    "print(f'F1-scores: {f1_scores_reglog}')\n",
    "print(f'Média do F1-score: {mean_f1_score_reglog}')\n",
    "print(f'Desvio Padrão do F1-score: {std_f1_score_reglog}')"
   ]
  },
  {
   "cell_type": "markdown",
   "metadata": {},
   "source": [
    "c) Treine um modelo de árvores de decisão usando um modelo de validação cruzada estratificada com k-folds (k=10) para realizar a classificação. Calcule para a base de teste:\n",
    "i. a média e desvio da acurácia dos modelos obtidos;\n",
    "ii. a média e desvio da precisão dos modelos obtidos;\n",
    "iii. a média e desvio da recall dos modelos obtidos;\n",
    "iv. a média e desvio do f1-score dos modelos obtidos."
   ]
  },
  {
   "cell_type": "code",
   "execution_count": 32,
   "metadata": {},
   "outputs": [
    {
     "data": {
      "text/plain": [
       "array([0, 0, 1, ..., 1, 1, 1], dtype=int64)"
      ]
     },
     "execution_count": 32,
     "metadata": {},
     "output_type": "execute_result"
    }
   ],
   "source": [
    "from sklearn.tree import DecisionTreeClassifier, plot_tree\n",
    "dTree = DecisionTreeClassifier(criterion=\"entropy\", max_depth = 5)\n",
    "dTree = dTree.fit(X_train,y_train)\n",
    "     \n",
    "yhat_dTree = dTree.predict(X_test)\n",
    "yhat_dTree\n",
    "     "
   ]
  },
  {
   "cell_type": "code",
   "execution_count": 39,
   "metadata": {},
   "outputs": [],
   "source": [
    "#Calculando as metricas:\n",
    "acuracias_dTree = cross_val_score(dTree, X_train, y_train, cv=10, scoring='accuracy')\n",
    "precisoes_dTree = cross_val_score(dTree, X_train, y_train, cv=10, scoring='precision')\n",
    "recalls_dTree = cross_val_score(dTree, X_train, y_train, cv=10, scoring='recall')\n",
    "f1_scores_dTree = cross_val_score(dTree, X_train, y_train, cv=10, scoring='f1')\n"
   ]
  },
  {
   "cell_type": "code",
   "execution_count": 40,
   "metadata": {},
   "outputs": [
    {
     "name": "stdout",
     "output_type": "stream",
     "text": [
      "Acurácias: [0.70652174 0.71014493 0.72463768 0.72101449 0.69927536 0.66666667\n",
      " 0.76449275 0.68115942 0.68478261 0.74181818]\n",
      "Média da Acurácia: 0.7100513833992095\n",
      "Desvio Padrão da Acurácia: 0.027910610966997755\n"
     ]
    }
   ],
   "source": [
    "#media e dp acuracia\n",
    "media_acuracia_dTree = np.mean(acuracias_dTree)\n",
    "std_acuracia_dTree = np.std(acuracias_dTree)\n",
    "\n",
    "print(f'Acurácias: {acuracias_dTree}')\n",
    "print(f'Média da Acurácia: {media_acuracia_dTree}')\n",
    "print(f'Desvio Padrão da Acurácia: {std_acuracia_dTree}')"
   ]
  },
  {
   "cell_type": "code",
   "execution_count": 41,
   "metadata": {},
   "outputs": [
    {
     "name": "stdout",
     "output_type": "stream",
     "text": [
      "Precisões: [0.75897436 0.74056604 0.765      0.75862069 0.74626866 0.74193548\n",
      " 0.79104478 0.735      0.75132275 0.76303318]\n",
      "Média da Precisão: 0.7551765929750371\n",
      "Desvio Padrão da Precisão: 0.015365969626209298\n"
     ]
    }
   ],
   "source": [
    "#media e dp precisao\n",
    "media_precisao_dTree = np.mean(precisoes_dTree)\n",
    "std_dTree = np.std(precisoes_dTree)\n",
    "\n",
    "print(f'Precisões: {precisoes_dTree}')\n",
    "print(f'Média da Precisão: {media_precisao_dTree}')\n",
    "print(f'Desvio Padrão da Precisão: {std_dTree}')"
   ]
  },
  {
   "cell_type": "code",
   "execution_count": 42,
   "metadata": {},
   "outputs": [
    {
     "name": "stdout",
     "output_type": "stream",
     "text": [
      "Recalls: [0.81318681 0.86263736 0.84065934 0.85164835 0.82417582 0.75824176\n",
      " 0.87362637 0.80769231 0.78021978 0.88461538]\n",
      "Média do Recall: 0.8296703296703296\n",
      "Desvio Padrão do Recall: 0.03869630079485497\n"
     ]
    }
   ],
   "source": [
    "#media e dp recall\n",
    "media_recall_dTree = np.mean(recalls_dTree)\n",
    "std_recall_dTree = np.std(recalls_dTree)\n",
    "\n",
    "print(f'Recalls: {recalls_dTree}')\n",
    "print(f'Média do Recall: {media_recall_dTree}')\n",
    "print(f'Desvio Padrão do Recall: {std_recall_dTree}')"
   ]
  },
  {
   "cell_type": "code",
   "execution_count": 43,
   "metadata": {},
   "outputs": [
    {
     "name": "stdout",
     "output_type": "stream",
     "text": [
      "F1-scores: [0.78514589 0.79695431 0.80104712 0.8        0.78328982 0.75\n",
      " 0.83028721 0.77284595 0.76549865 0.81933842]\n",
      "Média do F1-score: 0.7904407374918092\n",
      "Desvio Padrão do F1-score: 0.02305521026332596\n"
     ]
    }
   ],
   "source": [
    "#media e dp f1socre\n",
    "media_f1_score_dTree = np.mean(f1_scores_dTree)\n",
    "std_f1_score_dTree = np.std(f1_scores_dTree)\n",
    "\n",
    "print(f'F1-scores: {f1_scores_dTree}')\n",
    "print(f'Média do F1-score: {media_f1_score_dTree}')\n",
    "print(f'Desvio Padrão do F1-score: {std_f1_score_dTree}')"
   ]
  },
  {
   "cell_type": "markdown",
   "metadata": {},
   "source": [
    "d)Treine um modelo de SVM usando um modelo de validação cruzada estratificada com k-folds (k=10) para realizar a classificação. Calcule para a base de teste:\n",
    "i. a média e desvio da acurácia dos modelos obtidos;\n",
    "ii. a média e desvio da precisão dos modelos obtidos;\n",
    "iii. a média e desvio da recall dos modelos obtidos;\n",
    "iv. a média e desvio do f1-score dos modelos obtidos.\n"
   ]
  },
  {
   "cell_type": "code",
   "execution_count": 44,
   "metadata": {},
   "outputs": [
    {
     "data": {
      "text/plain": [
       "array([1, 1, 1, ..., 1, 1, 1], dtype=int64)"
      ]
     },
     "execution_count": 44,
     "metadata": {},
     "output_type": "execute_result"
    }
   ],
   "source": [
    "from sklearn import svm\n",
    "clf = svm.SVC(kernel='rbf')\n",
    "clf.fit(X_train, y_train)\n",
    "yhat_clf = clf.predict(X_test)\n",
    "yhat_clf"
   ]
  },
  {
   "cell_type": "code",
   "execution_count": 45,
   "metadata": {},
   "outputs": [],
   "source": [
    "acuracias_clf = cross_val_score(clf, X_train, y_train, cv=10, scoring='accuracy')\n",
    "precisoes_clf = cross_val_score(clf, X_train, y_train, cv=10, scoring='precision')\n",
    "recalls_clf = cross_val_score(clf, X_train, y_train, cv=10, scoring='recall')\n",
    "f1_scores_clf = cross_val_score(clf, X_train, y_train, cv=10, scoring='f1')\n"
   ]
  },
  {
   "cell_type": "code",
   "execution_count": 46,
   "metadata": {},
   "outputs": [
    {
     "name": "stdout",
     "output_type": "stream",
     "text": [
      "Acurácias: [0.6557971  0.67028986 0.66304348 0.67391304 0.66304348 0.65217391\n",
      " 0.66666667 0.66666667 0.64855072 0.67272727]\n",
      "Média da Acurácia: 0.6632872200263505\n",
      "Desvio Padrão da Acurácia: 0.00819018632655481\n"
     ]
    }
   ],
   "source": [
    "#media e dp acuracia\n",
    "media_acuracia_clf = np.mean(acuracias_clf)\n",
    "std_acuracia_clf = np.std(acuracias_clf)\n",
    "\n",
    "print(f'Acurácias: {acuracias_clf}')\n",
    "print(f'Média da Acurácia: {media_acuracia_clf}')\n",
    "print(f'Desvio Padrão da Acurácia: {std_acuracia_clf}')"
   ]
  },
  {
   "cell_type": "code",
   "execution_count": 47,
   "metadata": {},
   "outputs": [
    {
     "name": "stdout",
     "output_type": "stream",
     "text": [
      "Precisões: [0.66539924 0.6770428  0.66542751 0.67692308 0.66792453 0.66412214\n",
      " 0.66666667 0.67045455 0.66159696 0.67424242]\n",
      "Média da Precisão: 0.6689799887561911\n",
      "Desvio Padrão da Precisão: 0.005176720351873897\n"
     ]
    }
   ],
   "source": [
    "#media e dp precisao\n",
    "media_precisao_clf = np.mean(precisoes_clf)\n",
    "std_clf = np.std(precisoes_clf)\n",
    "\n",
    "print(f'Precisões: {precisoes_clf}')\n",
    "print(f'Média da Precisão: {media_precisao_clf}')\n",
    "print(f'Desvio Padrão da Precisão: {std_clf}')\n",
    "     "
   ]
  },
  {
   "cell_type": "code",
   "execution_count": 48,
   "metadata": {},
   "outputs": [
    {
     "name": "stdout",
     "output_type": "stream",
     "text": [
      "Recalls: [0.96153846 0.95604396 0.98351648 0.96703297 0.97252747 0.95604396\n",
      " 0.98901099 0.97252747 0.95604396 0.97802198]\n",
      "Média do Recall: 0.9692307692307693\n",
      "Desvio Padrão do Recall: 0.011313879275809869\n"
     ]
    }
   ],
   "source": [
    "#media e dp recall\n",
    "media_recall_clf = np.mean(recalls_clf)\n",
    "std_recall_clf = np.std(recalls_clf)\n",
    "\n",
    "print(f'Recalls: {recalls_clf}')\n",
    "print(f'Média do Recall: {media_recall_clf}')\n",
    "print(f'Desvio Padrão do Recall: {std_recall_clf}')"
   ]
  },
  {
   "cell_type": "code",
   "execution_count": 49,
   "metadata": {},
   "outputs": [
    {
     "name": "stdout",
     "output_type": "stream",
     "text": [
      "F1-scores: [0.78651685 0.79271071 0.79379157 0.79638009 0.79194631 0.78378378\n",
      " 0.79646018 0.79372197 0.78202247 0.79820628]\n",
      "Média do F1-score: 0.7915540217390997\n",
      "Desvio Padrão do F1-score: 0.005285947168006201\n"
     ]
    }
   ],
   "source": [
    "#media e dp f1score:\n",
    "media_f1_score_clf = np.mean(f1_scores_clf)\n",
    "std_f1_score_clf = np.std(f1_scores_clf)\n",
    "\n",
    "print(f'F1-scores: {f1_scores_clf}')\n",
    "print(f'Média do F1-score: {media_f1_score_clf}')\n",
    "print(f'Desvio Padrão do F1-score: {std_f1_score_clf}')"
   ]
  },
  {
   "cell_type": "markdown",
   "metadata": {},
   "source": [
    "QUESTAO 5\n",
    "Em relação à questão anterior, qual o modelo deveria ser escolhido para uma eventual operação. \n",
    "Responda essa questão mostrando a comparação de todos os modelos, usando um gráfico mostrando a curva ROC média para cada um dos gráficos e justifique."
   ]
  },
  {
   "cell_type": "code",
   "execution_count": 52,
   "metadata": {},
   "outputs": [
    {
     "data": {
      "image/png": "[encoded data removed]",
      "text/plain": [
       "<Figure size 640x480 with 1 Axes>"
      ]
     },
     "metadata": {},
     "output_type": "display_data"
    }
   ],
   "source": [
    "from sklearn.preprocessing import MultiLabelBinarizer\n",
    "from sklearn.metrics import roc_curve, auc\n",
    "from sklearn.model_selection import cross_val_predict\n",
    "from sklearn.preprocessing import label_binarize\n",
    "from sklearn.model_selection import StratifiedGroupKFold\n",
    "from itertools import cycle\n",
    "\n",
    "# Supondo que você tenha três modelos treinados anteriormente\n",
    "modelo_rlog = reglog\n",
    "modelo_tree = dTree\n",
    "modelo_svm = clf\n",
    "\n",
    "# Binariza as classes usando label_binarize\n",
    "y_test_bin = label_binarize(y_test, classes=[0, 1])\n",
    "\n",
    "# Função para calcular e plotar a curva ROC para um modelo específico\n",
    "def plot_roc_curve(modelo, nome_modelo, color):\n",
    "  if hasattr(modelo, \"decision_function\"):\n",
    "     y_score = modelo.decision_function(X_test)\n",
    "  elif hasattr(modelo, \"predict_proba\"):\n",
    "      prob_pos = modelo.predict_proba(X_test)[:, 1]\n",
    "      y_score = prob_pos\n",
    "  else:\n",
    "     raise AttributeError(\"Modelo não possui 'decision_function' nem 'predict_proba'\")\n",
    "\n",
    "  fpr, tpr, _ = roc_curve(y_test_bin.ravel(), y_score.ravel())\n",
    "  roc_auc = auc(fpr, tpr)\n",
    "  plt.plot(fpr, tpr, color=color, lw=2, label=f'{nome_modelo} (AUC = {roc_auc:.2f})')\n",
    "  # Cores para os modelos\n",
    "cores = cycle(['green', 'yellow', 'blue'])\n",
    "\n",
    "# Plota a curva ROC para cada modelo\n",
    "plot_roc_curve(modelo_rlog, 'rlog', next(cores))\n",
    "plot_roc_curve(modelo_tree, 'tree', next(cores))\n",
    "plot_roc_curve(modelo_svm, 'svm', next(cores))\n",
    "\n",
    "# Configurações do gráfico\n",
    "plt.plot([0, 1], [0, 1], color='black', lw=2, linestyle='--')\n",
    "plt.xlim([0.0, 1.0])\n",
    "plt.ylim([0.0, 1.05])\n",
    "plt.xlabel('Taxa de Falso Positivo (FPR)')\n",
    "plt.ylabel('Taxa de Verdadeiro Positivo (TPR)')\n",
    "plt.title('Curva ROC de Três Modelos com Cross-Validation')\n",
    "plt.legend(loc=\"lower right\")\n",
    "plt.show()"
   ]
  },
  {
   "cell_type": "markdown",
   "metadata": {},
   "source": [
    "Resposta 5:\n",
    "Pelo apresentado na curva ROC o melhor modelo é a aravore de decisão que apresentou maior valor. Vale destacar que o eixo X é a proporção de exemplos negativos que foram incorretamente classificados como positivos e o eixo Y é representa a proporção de exemplos positivos que foram corretamente classificados como positivos.\n",
    "Valores de 0 a 0,5 mostram que os modelos classificam aleatoriamente."
   ]
  },
  {
   "cell_type": "markdown",
   "metadata": {},
   "source": []
  }
 ],
 "metadata": {
  "kernelspec": {
   "display_name": "Python 3",
   "language": "python",
   "name": "python3"
  },
  "language_info": {
   "codemirror_mode": {
    "name": "ipython",
    "version": 3
   },
   "file_extension": ".py",
   "mimetype": "text/x-python",
   "name": "python",
   "nbconvert_exporter": "python",
   "pygments_lexer": "ipython3",
   "version": "3.11.3"
  }
 },
 "nbformat": 4,
 "nbformat_minor": 2
}
